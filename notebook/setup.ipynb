{
 "cells": [
  {
   "cell_type": "markdown",
   "id": "57581819",
   "metadata": {},
   "source": [
    "## Original Code From Google"
   ]
  },
  {
   "cell_type": "code",
   "execution_count": 1,
   "id": "a1588ec3",
   "metadata": {},
   "outputs": [],
   "source": [
    "from google.genai import types\n",
    "import os\n",
    "\n",
    "# Define a function that the model can call to control smart lights\n",
    "set_light_values_declaration = {\n",
    "    \"name\": \"set_light_values\",\n",
    "    \"description\": \"Sets the brightness and color temperature of a light.\",\n",
    "    \"parameters\": {\n",
    "        \"type\": \"object\",\n",
    "        \"properties\": {\n",
    "            \"brightness\": {\n",
    "                \"type\": \"integer\",\n",
    "                \"description\": \"Light level from 0 to 100. Zero is off and 100 is full brightness\",\n",
    "            },\n",
    "            \"color_temp\": {\n",
    "                \"type\": \"string\",\n",
    "                \"enum\": [\"daylight\", \"cool\", \"warm\"],\n",
    "                \"description\": \"Color temperature of the light fixture, which can be `daylight`, `cool` or `warm`.\",\n",
    "            },\n",
    "        },\n",
    "        \"required\": [\"brightness\", \"color_temp\"],\n",
    "    },\n",
    "}\n",
    "\n",
    "# This is the actual function that would be called based on the model's suggestion\n",
    "def set_light_values(brightness: int, color_temp: str) -> dict[str, int | str]:\n",
    "    \"\"\"Set the brightness and color temperature of a room light. (mock API).\n",
    "\n",
    "    Args:\n",
    "        brightness: Light level from 0 to 100. Zero is off and 100 is full brightness\n",
    "        color_temp: Color temperature of the light fixture, which can be `daylight`, `cool` or `warm`.\n",
    "\n",
    "    Returns:\n",
    "        A dictionary containing the set brightness and color temperature.\n",
    "    \"\"\"\n",
    "    return {\"brightness\": brightness, \"colorTemperature\": color_temp}\n"
   ]
  },
  {
   "cell_type": "code",
   "execution_count": 2,
   "id": "5a1040b4",
   "metadata": {},
   "outputs": [
    {
     "name": "stdout",
     "output_type": "stream",
     "text": [
      "id=None args={'color_temp': 'warm', 'brightness': 20} name='set_light_values'\n"
     ]
    }
   ],
   "source": [
    "from google import genai\n",
    "\n",
    "# Generation Config with Function Declaration\n",
    "tools = types.Tool(function_declarations=[set_light_values_declaration])\n",
    "config = types.GenerateContentConfig(tools=[tools])\n",
    "\n",
    "# Configure the client\n",
    "client = genai.Client(api_key=os.getenv(\"GEMINI_API_KEY\"))\n",
    "\n",
    "# Define user prompt\n",
    "contents = [\n",
    "    types.Content(\n",
    "        role=\"user\", parts=[types.Part(text=\"Turn the lights down to a romantic level\")]\n",
    "    )\n",
    "]\n",
    "\n",
    "# Send request with function declarations\n",
    "response = client.models.generate_content(\n",
    "    model=\"gemini-2.0-flash\", config=config, contents=contents\n",
    ")\n",
    "\n",
    "print(response.candidates[0].content.parts[0].function_call)"
   ]
  },
  {
   "cell_type": "code",
   "execution_count": 41,
   "id": "3e29c7fe",
   "metadata": {},
   "outputs": [
    {
     "name": "stdout",
     "output_type": "stream",
     "text": [
      "Function execution result: {'brightness': 20, 'colorTemperature': 'warm'}\n"
     ]
    }
   ],
   "source": [
    "# Extract tool call details\n",
    "tool_call = response.candidates[0].content.parts[0].function_call\n",
    "\n",
    "if tool_call.name == \"set_light_values\":\n",
    "    result = set_light_values(**tool_call.args)\n",
    "    print(f\"Function execution result: {result}\")"
   ]
  },
  {
   "cell_type": "code",
   "execution_count": 42,
   "id": "d37d33cd",
   "metadata": {},
   "outputs": [
    {
     "name": "stdout",
     "output_type": "stream",
     "text": [
      "OK. I've set the lights to 20% brightness with a warm color temperature.\n",
      "\n"
     ]
    }
   ],
   "source": [
    "# Create a function response part\n",
    "function_response_part = types.Part.from_function_response(\n",
    "    name=tool_call.name,\n",
    "    response={\"result\": result},\n",
    ")\n",
    "\n",
    "# Append function call and result of the function execution to contents\n",
    "contents.append(types.Content(role=\"model\", parts=[types.Part(function_call=tool_call)])) # Append the model's function call message\n",
    "contents.append(types.Content(role=\"user\", parts=[function_response_part])) # Append the function response\n",
    "\n",
    "final_response = client.models.generate_content(\n",
    "    model=\"gemini-2.0-flash\",\n",
    "    config=config,\n",
    "    contents=contents,\n",
    ")\n",
    "\n",
    "print(final_response.text)"
   ]
  }
 ],
 "metadata": {
  "kernelspec": {
   "display_name": "Python 3",
   "language": "python",
   "name": "python3"
  },
  "language_info": {
   "codemirror_mode": {
    "name": "ipython",
    "version": 3
   },
   "file_extension": ".py",
   "mimetype": "text/x-python",
   "name": "python",
   "nbconvert_exporter": "python",
   "pygments_lexer": "ipython3",
   "version": "3.12.7"
  }
 },
 "nbformat": 4,
 "nbformat_minor": 5
}
